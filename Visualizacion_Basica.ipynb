{
  "nbformat": 4,
  "nbformat_minor": 0,
  "metadata": {
    "colab": {
      "name": "Visualizacion_Basica.ipynb",
      "provenance": [],
      "toc_visible": true,
      "authorship_tag": "ABX9TyMRYp1vdZspPn85R7l74VUR",
      "include_colab_link": true
    },
    "kernelspec": {
      "name": "python3",
      "display_name": "Python 3"
    }
  },
  "cells": [
    {
      "cell_type": "markdown",
      "metadata": {
        "id": "view-in-github",
        "colab_type": "text"
      },
      "source": [
        "<a href=\"https://colab.research.google.com/github/siralexiss/git-prueba/blob/master/Visualizacion_Basica.ipynb\" target=\"_parent\"><img src=\"https://colab.research.google.com/assets/colab-badge.svg\" alt=\"Open In Colab\"/></a>"
      ]
    },
    {
      "cell_type": "markdown",
      "metadata": {
        "id": "L_zAN2EE_Pt3"
      },
      "source": [
        "#Visualizacion Basica\r\n",
        "metodos para Visualizar los datos"
      ]
    },
    {
      "cell_type": "code",
      "metadata": {
        "id": "6sE-NJR1_NBL"
      },
      "source": [
        "import pandas as pd\r\n",
        "import matplotlib.pyplot as plt\r\n",
        "import numpy as np"
      ],
      "execution_count": 1,
      "outputs": []
    },
    {
      "cell_type": "code",
      "metadata": {
        "id": "k3Ado-Vw_mU_"
      },
      "source": [
        "data=pd.read_csv('Customer Churn Model.txt')"
      ],
      "execution_count": 3,
      "outputs": []
    },
    {
      "cell_type": "code",
      "metadata": {
        "colab": {
          "base_uri": "https://localhost:8080/",
          "height": 306
        },
        "id": "YkaI9EHC_sx8",
        "outputId": "fbdede6a-a018-48e6-c626-b7b935f2ce5f"
      },
      "source": [
        "data.head()"
      ],
      "execution_count": null,
      "outputs": [
        {
          "output_type": "execute_result",
          "data": {
            "text/html": [
              "<div>\n",
              "<style scoped>\n",
              "    .dataframe tbody tr th:only-of-type {\n",
              "        vertical-align: middle;\n",
              "    }\n",
              "\n",
              "    .dataframe tbody tr th {\n",
              "        vertical-align: top;\n",
              "    }\n",
              "\n",
              "    .dataframe thead th {\n",
              "        text-align: right;\n",
              "    }\n",
              "</style>\n",
              "<table border=\"1\" class=\"dataframe\">\n",
              "  <thead>\n",
              "    <tr style=\"text-align: right;\">\n",
              "      <th></th>\n",
              "      <th>State</th>\n",
              "      <th>Account Length</th>\n",
              "      <th>Area Code</th>\n",
              "      <th>Phone</th>\n",
              "      <th>Int'l Plan</th>\n",
              "      <th>VMail Plan</th>\n",
              "      <th>VMail Message</th>\n",
              "      <th>Day Mins</th>\n",
              "      <th>Day Calls</th>\n",
              "      <th>Day Charge</th>\n",
              "      <th>Eve Mins</th>\n",
              "      <th>Eve Calls</th>\n",
              "      <th>Eve Charge</th>\n",
              "      <th>Night Mins</th>\n",
              "      <th>Night Calls</th>\n",
              "      <th>Night Charge</th>\n",
              "      <th>Intl Mins</th>\n",
              "      <th>Intl Calls</th>\n",
              "      <th>Intl Charge</th>\n",
              "      <th>CustServ Calls</th>\n",
              "      <th>Churn?</th>\n",
              "    </tr>\n",
              "  </thead>\n",
              "  <tbody>\n",
              "    <tr>\n",
              "      <th>0</th>\n",
              "      <td>KS</td>\n",
              "      <td>128</td>\n",
              "      <td>415</td>\n",
              "      <td>382-4657</td>\n",
              "      <td>no</td>\n",
              "      <td>yes</td>\n",
              "      <td>25</td>\n",
              "      <td>265.1</td>\n",
              "      <td>110</td>\n",
              "      <td>45.07</td>\n",
              "      <td>197.4</td>\n",
              "      <td>99</td>\n",
              "      <td>16.78</td>\n",
              "      <td>244.7</td>\n",
              "      <td>91</td>\n",
              "      <td>11.01</td>\n",
              "      <td>10.0</td>\n",
              "      <td>3</td>\n",
              "      <td>2.70</td>\n",
              "      <td>1</td>\n",
              "      <td>False.</td>\n",
              "    </tr>\n",
              "    <tr>\n",
              "      <th>1</th>\n",
              "      <td>OH</td>\n",
              "      <td>107</td>\n",
              "      <td>415</td>\n",
              "      <td>371-7191</td>\n",
              "      <td>no</td>\n",
              "      <td>yes</td>\n",
              "      <td>26</td>\n",
              "      <td>161.6</td>\n",
              "      <td>123</td>\n",
              "      <td>27.47</td>\n",
              "      <td>195.5</td>\n",
              "      <td>103</td>\n",
              "      <td>16.62</td>\n",
              "      <td>254.4</td>\n",
              "      <td>103</td>\n",
              "      <td>11.45</td>\n",
              "      <td>13.7</td>\n",
              "      <td>3</td>\n",
              "      <td>3.70</td>\n",
              "      <td>1</td>\n",
              "      <td>False.</td>\n",
              "    </tr>\n",
              "    <tr>\n",
              "      <th>2</th>\n",
              "      <td>NJ</td>\n",
              "      <td>137</td>\n",
              "      <td>415</td>\n",
              "      <td>358-1921</td>\n",
              "      <td>no</td>\n",
              "      <td>no</td>\n",
              "      <td>0</td>\n",
              "      <td>243.4</td>\n",
              "      <td>114</td>\n",
              "      <td>41.38</td>\n",
              "      <td>121.2</td>\n",
              "      <td>110</td>\n",
              "      <td>10.30</td>\n",
              "      <td>162.6</td>\n",
              "      <td>104</td>\n",
              "      <td>7.32</td>\n",
              "      <td>12.2</td>\n",
              "      <td>5</td>\n",
              "      <td>3.29</td>\n",
              "      <td>0</td>\n",
              "      <td>False.</td>\n",
              "    </tr>\n",
              "    <tr>\n",
              "      <th>3</th>\n",
              "      <td>OH</td>\n",
              "      <td>84</td>\n",
              "      <td>408</td>\n",
              "      <td>375-9999</td>\n",
              "      <td>yes</td>\n",
              "      <td>no</td>\n",
              "      <td>0</td>\n",
              "      <td>299.4</td>\n",
              "      <td>71</td>\n",
              "      <td>50.90</td>\n",
              "      <td>61.9</td>\n",
              "      <td>88</td>\n",
              "      <td>5.26</td>\n",
              "      <td>196.9</td>\n",
              "      <td>89</td>\n",
              "      <td>8.86</td>\n",
              "      <td>6.6</td>\n",
              "      <td>7</td>\n",
              "      <td>1.78</td>\n",
              "      <td>2</td>\n",
              "      <td>False.</td>\n",
              "    </tr>\n",
              "    <tr>\n",
              "      <th>4</th>\n",
              "      <td>OK</td>\n",
              "      <td>75</td>\n",
              "      <td>415</td>\n",
              "      <td>330-6626</td>\n",
              "      <td>yes</td>\n",
              "      <td>no</td>\n",
              "      <td>0</td>\n",
              "      <td>166.7</td>\n",
              "      <td>113</td>\n",
              "      <td>28.34</td>\n",
              "      <td>148.3</td>\n",
              "      <td>122</td>\n",
              "      <td>12.61</td>\n",
              "      <td>186.9</td>\n",
              "      <td>121</td>\n",
              "      <td>8.41</td>\n",
              "      <td>10.1</td>\n",
              "      <td>3</td>\n",
              "      <td>2.73</td>\n",
              "      <td>3</td>\n",
              "      <td>False.</td>\n",
              "    </tr>\n",
              "  </tbody>\n",
              "</table>\n",
              "</div>"
            ],
            "text/plain": [
              "  State  Account Length  Area Code  ... Intl Charge CustServ Calls  Churn?\n",
              "0    KS             128        415  ...        2.70              1  False.\n",
              "1    OH             107        415  ...        3.70              1  False.\n",
              "2    NJ             137        415  ...        3.29              0  False.\n",
              "3    OH              84        408  ...        1.78              2  False.\n",
              "4    OK              75        415  ...        2.73              3  False.\n",
              "\n",
              "[5 rows x 21 columns]"
            ]
          },
          "metadata": {
            "tags": []
          },
          "execution_count": 3
        }
      ]
    },
    {
      "cell_type": "code",
      "metadata": {
        "id": "dUF5Ut_8_uFt"
      },
      "source": [
        "% matplotlib inline"
      ],
      "execution_count": null,
      "outputs": []
    },
    {
      "cell_type": "markdown",
      "metadata": {
        "id": "U-B694HTAidf"
      },
      "source": [
        "##Scatter Plot"
      ]
    },
    {
      "cell_type": "code",
      "metadata": {
        "colab": {
          "base_uri": "https://localhost:8080/",
          "height": 296
        },
        "id": "MR8dQdzfATN0",
        "outputId": "805b25b6-88ec-4e6f-9747-ca6f0e4dc556"
      },
      "source": [
        "data.plot(kind='scatter',x= 'Day Mins',y='Day Charge')"
      ],
      "execution_count": null,
      "outputs": [
        {
          "output_type": "execute_result",
          "data": {
            "text/plain": [
              "<matplotlib.axes._subplots.AxesSubplot at 0x7fda25a03400>"
            ]
          },
          "metadata": {
            "tags": []
          },
          "execution_count": 5
        },
        {
          "output_type": "display_data",
          "data": {
            "image/png": "[encoded data removed]",
            "text/plain": [
              "<Figure size 432x288 with 1 Axes>"
            ]
          },
          "metadata": {
            "tags": [],
            "needs_background": "light"
          }
        }
      ]
    },
    {
      "cell_type": "code",
      "metadata": {
        "id": "91BhyYPvBMQH"
      },
      "source": [
        "% matplotlib inline"
      ],
      "execution_count": null,
      "outputs": []
    },
    {
      "cell_type": "code",
      "metadata": {
        "colab": {
          "base_uri": "https://localhost:8080/",
          "height": 296
        },
        "id": "E6B4wZRPCmro",
        "outputId": "cdb44427-d18b-45f1-a0e1-3b0b9df3a7a4"
      },
      "source": [
        "data.plot(kind='scatter',x='Night Mins',y='Night Charge')"
      ],
      "execution_count": null,
      "outputs": [
        {
          "output_type": "execute_result",
          "data": {
            "text/plain": [
              "<matplotlib.axes._subplots.AxesSubplot at 0x7fda01059400>"
            ]
          },
          "metadata": {
            "tags": []
          },
          "execution_count": 8
        },
        {
          "output_type": "display_data",
          "data": {
            "image/png": "[encoded data removed]",
            "text/plain": [
              "<Figure size 432x288 with 1 Axes>"
            ]
          },
          "metadata": {
            "tags": [],
            "needs_background": "light"
          }
        }
      ]
    },
    {
      "cell_type": "code",
      "metadata": {
        "colab": {
          "base_uri": "https://localhost:8080/",
          "height": 296
        },
        "id": "VTBBdHg3D1Fk",
        "outputId": "0357e487-5e62-430d-bbec-d115f63d977b"
      },
      "source": [
        "figure,axs=plt.subplots(2,2,sharey=True,sharex=True)\r\n",
        "data.plot(kind='scatter',x='Day Mins',y='Day Charge',ax=axs[0][0])\r\n",
        "data.plot(kind='scatter',x='Night Mins',y='Night Charge',ax=axs[0][1])\r\n",
        "data.plot(kind='scatter',x='Day Calls',y='Day Charge',ax=axs[1][0])\r\n",
        "data.plot(kind='scatter',x='Night Calls',y='Night Charge',ax=axs[1][1])"
      ],
      "execution_count": null,
      "outputs": [
        {
          "output_type": "execute_result",
          "data": {
            "text/plain": [
              "<matplotlib.axes._subplots.AxesSubplot at 0x7fda00ed1b00>"
            ]
          },
          "metadata": {
            "tags": []
          },
          "execution_count": 14
        },
        {
          "output_type": "display_data",
          "data": {
            "image/png": "[encoded data removed]",
            "text/plain": [
              "<Figure size 432x288 with 4 Axes>"
            ]
          },
          "metadata": {
            "tags": [],
            "needs_background": "light"
          }
        }
      ]
    },
    {
      "cell_type": "markdown",
      "metadata": {
        "id": "g2Ywr3QFiNbv"
      },
      "source": [
        "#Histogramas de Frecuencias"
      ]
    },
    {
      "cell_type": "code",
      "metadata": {
        "colab": {
          "base_uri": "https://localhost:8080/",
          "height": 350
        },
        "id": "e9TCLS1HiPt6",
        "outputId": "33ad47c8-f5ae-4b43-8892-32129acc8a2a"
      },
      "source": [
        "plt.hist(data['Day Calls'])"
      ],
      "execution_count": null,
      "outputs": [
        {
          "output_type": "execute_result",
          "data": {
            "text/plain": [
              "(array([2.000e+00, 1.000e+00, 1.900e+01, 1.160e+02, 4.690e+02, 9.170e+02,\n",
              "        1.055e+03, 5.540e+02, 1.790e+02, 2.100e+01]),\n",
              " array([  0. ,  16.5,  33. ,  49.5,  66. ,  82.5,  99. , 115.5, 132. ,\n",
              "        148.5, 165. ]),\n",
              " <a list of 10 Patch objects>)"
            ]
          },
          "metadata": {
            "tags": []
          },
          "execution_count": 15
        },
        {
          "output_type": "display_data",
          "data": {
            "image/png": "[encoded data removed]",
            "text/plain": [
              "<Figure size 432x288 with 1 Axes>"
            ]
          },
          "metadata": {
            "tags": [],
            "needs_background": "light"
          }
        }
      ]
    },
    {
      "cell_type": "code",
      "metadata": {
        "colab": {
          "base_uri": "https://localhost:8080/",
          "height": 312
        },
        "id": "7p94_bJJmFBl",
        "outputId": "9b79d77c-db83-4b89-ca55-e64ad30e6798"
      },
      "source": [
        "plt.hist(data['Day Calls'],bins = 9)\r\n",
        "plt.xlabel('Numero de llamadas al dia')\r\n",
        "plt.ylabel('Frecuencia')\r\n",
        "plt.title('Histograma del Numero de llamadas al Dia')"
      ],
      "execution_count": null,
      "outputs": [
        {
          "output_type": "execute_result",
          "data": {
            "text/plain": [
              "Text(0.5, 1.0, 'Histograma del Numero de llamadas al Dia')"
            ]
          },
          "metadata": {
            "tags": []
          },
          "execution_count": 21
        },
        {
          "output_type": "display_data",
          "data": {
            "image/png": "[encoded data removed]",
            "text/plain": [
              "<Figure size 432x288 with 1 Axes>"
            ]
          },
          "metadata": {
            "tags": [],
            "needs_background": "light"
          }
        }
      ]
    },
    {
      "cell_type": "markdown",
      "metadata": {
        "id": "0UoJK6Obo9FS"
      },
      "source": [
        "Para elaborar un Histograma correctamente tenemos que aplicar \r\n",
        "la regla de sturges para saber cuantas divisiones hay que laborar en un histograma c=1+log2(M) donde M es el tamaño de nuestra muestra"
      ]
    },
    {
      "cell_type": "code",
      "metadata": {
        "colab": {
          "base_uri": "https://localhost:8080/",
          "height": 384
        },
        "id": "2GnocXU5n1SO",
        "outputId": "e4a22b4f-d1d4-4915-8fc0-96b49d79de1f"
      },
      "source": [
        "plt.hist(data['Day Calls'],bins = int(np.ceil(1+np.log2(3333))))"
      ],
      "execution_count": null,
      "outputs": [
        {
          "output_type": "execute_result",
          "data": {
            "text/plain": [
              "(array([  2.,   0.,   3.,  17.,  92., 261., 532., 809., 812., 495., 222.,\n",
              "         80.,   8.]),\n",
              " array([  0.        ,  12.69230769,  25.38461538,  38.07692308,\n",
              "         50.76923077,  63.46153846,  76.15384615,  88.84615385,\n",
              "        101.53846154, 114.23076923, 126.92307692, 139.61538462,\n",
              "        152.30769231, 165.        ]),\n",
              " <a list of 13 Patch objects>)"
            ]
          },
          "metadata": {
            "tags": []
          },
          "execution_count": 24
        },
        {
          "output_type": "display_data",
          "data": {
            "image/png": "[encoded data removed]",
            "text/plain": [
              "<Figure size 432x288 with 1 Axes>"
            ]
          },
          "metadata": {
            "tags": [],
            "needs_background": "light"
          }
        }
      ]
    },
    {
      "cell_type": "markdown",
      "metadata": {
        "id": "T5cV37aRQAWW"
      },
      "source": [
        "#Boxplot Diagrama de caja y bigotes"
      ]
    },
    {
      "cell_type": "code",
      "metadata": {
        "colab": {
          "base_uri": "https://localhost:8080/",
          "height": 298
        },
        "id": "srawNinHQMog",
        "outputId": "7807c4a0-4455-463d-e66f-530228e66e3a"
      },
      "source": [
        "plt.boxplot(data['Day Calls'])\r\n",
        "plt.ylabel('Numero de llamadas diarias')\r\n",
        "plt.title('Boxplot de las llamadas diarias')"
      ],
      "execution_count": 6,
      "outputs": [
        {
          "output_type": "execute_result",
          "data": {
            "text/plain": [
              "Text(0.5, 1.0, 'Boxplot de las llamadas diarias')"
            ]
          },
          "metadata": {
            "tags": []
          },
          "execution_count": 6
        },
        {
          "output_type": "display_data",
          "data": {
            "image/png": "[encoded data removed]",
            "text/plain": [
              "<Figure size 432x288 with 1 Axes>"
            ]
          },
          "metadata": {
            "tags": [],
            "needs_background": "light"
          }
        }
      ]
    },
    {
      "cell_type": "markdown",
      "metadata": {
        "id": "gGgVh-HiX-qt"
      },
      "source": [
        "la caja indica la importancia de donde estan la gran mayoria de los datos\r\n",
        "los cuantiles sirven para ordenar o dividir donde se organiza la informacion\r\n",
        "en este problema, la caja empezaria en los valores donde se localizan los 25 % de los datos, seria en el lado  inferior, en el medio el 50% y el superior el 75%\r\n",
        "entonces la linea de la caja es el valor que esta justo en el 50%\r\n"
      ]
    },
    {
      "cell_type": "markdown",
      "metadata": {
        "id": "0afd__oHYAaX"
      },
      "source": [
        "el rango intercuartilico o IQR es la resta del   tercer cuartill con el primer cuartil  75%-25%.\r\n",
        "el bigote que sale de la caja , el que lelga muy arriba o muy abajo siempre se coloca ah 1.5 veces el rango intercuartilico \r\n",
        "el IQR o rango intercuartilico se saca\r\n",
        "\r\n",
        "IQR=data['Day Calls'].quantile(0.75)-data['Day Calls'].quantile(0.25)\r\n",
        "\r\n",
        "IQR=data['Day Calls'].quantile(0.25)-1.5*IQR\r\n",
        "\r\n",
        "IQR=data['Day Calls'].quantile(0.25)+1.5*IQR"
      ]
    }
  ]
}